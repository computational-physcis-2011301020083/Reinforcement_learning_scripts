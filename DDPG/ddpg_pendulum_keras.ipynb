{
 "cells": [
  {
   "cell_type": "markdown",
   "metadata": {
    "colab_type": "text"
   },
   "source": [
    "# Deep Deterministic Policy Gradient (DDPG)\n",
    "\n",
    "**Author:** [amifunny](https://github.com/amifunny)<br>\n",
    "**Date created:** 2020/06/04<br>\n",
    "**Last modified:** 2020/09/21<br>\n",
    "**Description:** Implementing DDPG algorithm on the Inverted Pendulum Problem."
   ]
  },
  {
   "cell_type": "markdown",
   "metadata": {
    "colab_type": "text"
   },
   "source": [
    "## Introduction\n",
    "\n",
    "**Deep Deterministic Policy Gradient (DDPG)** is a model-free off-policy algorithm for\n",
    "learning continous actions.\n",
    "\n",
    "It combines ideas from DPG (Deterministic Policy Gradient) and DQN (Deep Q-Network).\n",
    "It uses Experience Replay and slow-learning target networks from DQN, and it is based on\n",
    "DPG,\n",
    "which can operate over continuous action spaces.\n",
    "\n",
    "This tutorial closely follow this paper -\n",
    "[Continuous control with deep reinforcement learning](https://arxiv.org/pdf/1509.02971.pdf)\n",
    "\n",
    "## Problem\n",
    "\n",
    "We are trying to solve the classic **Inverted Pendulum** control problem.\n",
    "In this setting, we can take only two actions: swing left or swing right.\n",
    "\n",
    "What make this problem challenging for Q-Learning Algorithms is that actions\n",
    "are **continuous** instead of being **discrete**. That is, instead of using two\n",
    "discrete actions like `-1` or `+1`, we have to select from infinite actions\n",
    "ranging from `-2` to `+2`.\n",
    "\n",
    "## Quick theory\n",
    "\n",
    "Just like the Actor-Critic method, we have two networks:\n",
    "\n",
    "1. Actor - It proposes an action given a state.\n",
    "2. Critic - It predicts if the action is good (positive value) or bad (negative value)\n",
    "given a state and an action.\n",
    "\n",
    "DDPG uses two more techniques not present in the original DQN:\n",
    "\n",
    "**First, it uses two Target networks.**\n",
    "\n",
    "**Why?** Because it add stability to training. In short, we are learning from estimated\n",
    "targets and Target networks are updated slowly, hence keeping our estimated targets\n",
    "stable.\n",
    "\n",
    "Conceptually, this is like saying, \"I have an idea of how to play this well,\n",
    "I'm going to try it out for a bit until I find something better\",\n",
    "as opposed to saying \"I'm going to re-learn how to play this entire game after every\n",
    "move\".\n",
    "See this [StackOverflow answer](https://stackoverflow.com/a/54238556/13475679).\n",
    "\n",
    "**Second, it uses Experience Replay.**\n",
    "\n",
    "We store list of tuples `(state, action, reward, next_state)`, and instead of\n",
    "learning only from recent experience, we learn from sampling all of our experience\n",
    "accumulated so far.\n",
    "\n",
    "Now, let's see how is it implemented."
   ]
  },
  {
   "cell_type": "code",
   "execution_count": 1,
   "metadata": {
    "colab_type": "code"
   },
   "outputs": [
    {
     "name": "stderr",
     "output_type": "stream",
     "text": [
      "/home/weiding/.local/lib/python3.6/site-packages/gym/core.py:27: UserWarning: \u001b[33mWARN: Gym minimally supports python 3.6 as the python foundation not longer supports the version, please update your version to 3.7+\u001b[0m\n",
      "  \"Gym minimally supports python 3.6 as the python foundation not longer supports the version, please update your version to 3.7+\"\n"
     ]
    }
   ],
   "source": [
    "import gym\n",
    "import tensorflow as tf\n",
    "from tensorflow.keras import layers\n",
    "import numpy as np\n",
    "import matplotlib.pyplot as plt"
   ]
  },
  {
   "cell_type": "markdown",
   "metadata": {
    "colab_type": "text"
   },
   "source": [
    "We use [OpenAIGym](http://gym.openai.com/docs) to create the environment.\n",
    "We will use the `upper_bound` parameter to scale our actions later."
   ]
  },
  {
   "cell_type": "code",
   "execution_count": 2,
   "metadata": {
    "colab_type": "code"
   },
   "outputs": [
    {
     "name": "stdout",
     "output_type": "stream",
     "text": [
      "Size of State Space ->  3\n",
      "Size of Action Space ->  1\n",
      "Max Value of Action ->  2.0\n",
      "Min Value of Action ->  -2.0\n"
     ]
    }
   ],
   "source": [
    "problem = \"Pendulum-v1\"\n",
    "env = gym.make(problem)\n",
    "\n",
    "num_states = env.observation_space.shape[0]\n",
    "print(\"Size of State Space ->  {}\".format(num_states))\n",
    "num_actions = env.action_space.shape[0]\n",
    "print(\"Size of Action Space ->  {}\".format(num_actions))\n",
    "\n",
    "upper_bound = env.action_space.high[0]\n",
    "lower_bound = env.action_space.low[0]\n",
    "\n",
    "print(\"Max Value of Action ->  {}\".format(upper_bound))\n",
    "print(\"Min Value of Action ->  {}\".format(lower_bound))"
   ]
  },
  {
   "cell_type": "markdown",
   "metadata": {
    "colab_type": "text"
   },
   "source": [
    "To implement better exploration by the Actor network, we use noisy perturbations,\n",
    "specifically\n",
    "an **Ornstein-Uhlenbeck process** for generating noise, as described in the paper.\n",
    "It samples noise from a correlated normal distribution."
   ]
  },
  {
   "cell_type": "code",
   "execution_count": 3,
   "metadata": {
    "colab_type": "code"
   },
   "outputs": [],
   "source": [
    "\n",
    "class OUActionNoise:\n",
    "    def __init__(self, mean, std_deviation, theta=0.15, dt=1e-2, x_initial=None):\n",
    "        self.theta = theta\n",
    "        self.mean = mean\n",
    "        self.std_dev = std_deviation\n",
    "        self.dt = dt\n",
    "        self.x_initial = x_initial\n",
    "        self.reset()\n",
    "\n",
    "    def __call__(self):\n",
    "        # Formula taken from https://www.wikipedia.org/wiki/Ornstein-Uhlenbeck_process.\n",
    "        x = (\n",
    "            self.x_prev\n",
    "            + self.theta * (self.mean - self.x_prev) * self.dt\n",
    "            + self.std_dev * np.sqrt(self.dt) * np.random.normal(size=self.mean.shape)\n",
    "        )\n",
    "        # Store x into x_prev\n",
    "        # Makes next noise dependent on current one\n",
    "        self.x_prev = x\n",
    "        return x\n",
    "\n",
    "    def reset(self):\n",
    "        if self.x_initial is not None:\n",
    "            self.x_prev = self.x_initial\n",
    "        else:\n",
    "            self.x_prev = np.zeros_like(self.mean)\n"
   ]
  },
  {
   "cell_type": "markdown",
   "metadata": {
    "colab_type": "text"
   },
   "source": [
    "The `Buffer` class implements Experience Replay.\n",
    "\n",
    "---\n",
    "![Algorithm](https://i.imgur.com/mS6iGyJ.jpg)\n",
    "---\n",
    "\n",
    "\n",
    "**Critic loss** - Mean Squared Error of `y - Q(s, a)`\n",
    "where `y` is the expected return as seen by the Target network,\n",
    "and `Q(s, a)` is action value predicted by the Critic network. `y` is a moving target\n",
    "that the critic model tries to achieve; we make this target\n",
    "stable by updating the Target model slowly.\n",
    "\n",
    "**Actor loss** - This is computed using the mean of the value given by the Critic network\n",
    "for the actions taken by the Actor network. We seek to maximize this quantity.\n",
    "\n",
    "Hence we update the Actor network so that it produces actions that get\n",
    "the maximum predicted value as seen by the Critic, for a given state."
   ]
  },
  {
   "cell_type": "code",
   "execution_count": 4,
   "metadata": {
    "colab_type": "code"
   },
   "outputs": [],
   "source": [
    "\n",
    "class Buffer:\n",
    "    def __init__(self, buffer_capacity=100000, batch_size=64):\n",
    "        # Number of \"experiences\" to store at max\n",
    "        self.buffer_capacity = buffer_capacity\n",
    "        # Num of tuples to train on.\n",
    "        self.batch_size = batch_size\n",
    "\n",
    "        # Its tells us num of times record() was called.\n",
    "        self.buffer_counter = 0\n",
    "\n",
    "        # Instead of list of tuples as the exp.replay concept go\n",
    "        # We use different np.arrays for each tuple element\n",
    "        self.state_buffer = np.zeros((self.buffer_capacity, num_states))\n",
    "        self.action_buffer = np.zeros((self.buffer_capacity, num_actions))\n",
    "        self.reward_buffer = np.zeros((self.buffer_capacity, 1))\n",
    "        self.next_state_buffer = np.zeros((self.buffer_capacity, num_states))\n",
    "\n",
    "    # Takes (s,a,r,s') obervation tuple as input\n",
    "    def record(self, obs_tuple):\n",
    "        # Set index to zero if buffer_capacity is exceeded,\n",
    "        # replacing old records\n",
    "        index = self.buffer_counter % self.buffer_capacity\n",
    "\n",
    "        self.state_buffer[index] = obs_tuple[0]\n",
    "        self.action_buffer[index] = obs_tuple[1]\n",
    "        self.reward_buffer[index] = obs_tuple[2]\n",
    "        self.next_state_buffer[index] = obs_tuple[3]\n",
    "\n",
    "        self.buffer_counter += 1\n",
    "\n",
    "    # Eager execution is turned on by default in TensorFlow 2. Decorating with tf.function allows\n",
    "    # TensorFlow to build a static graph out of the logic and computations in our function.\n",
    "    # This provides a large speed up for blocks of code that contain many small TensorFlow operations such as this one.\n",
    "    @tf.function\n",
    "    def update(\n",
    "        self, state_batch, action_batch, reward_batch, next_state_batch,\n",
    "    ):\n",
    "        # Training and updating Actor & Critic networks.\n",
    "        # See Pseudo Code.\n",
    "        with tf.GradientTape() as tape:\n",
    "            target_actions = target_actor(next_state_batch, training=True)\n",
    "            y = reward_batch + gamma * target_critic(\n",
    "                [next_state_batch, target_actions], training=True\n",
    "            )\n",
    "            critic_value = critic_model([state_batch, action_batch], training=True)\n",
    "            critic_loss = tf.math.reduce_mean(tf.math.square(y - critic_value))\n",
    "\n",
    "        critic_grad = tape.gradient(critic_loss, critic_model.trainable_variables)\n",
    "        critic_optimizer.apply_gradients(\n",
    "            zip(critic_grad, critic_model.trainable_variables)\n",
    "        )\n",
    "\n",
    "        with tf.GradientTape() as tape:\n",
    "            actions = actor_model(state_batch, training=True)\n",
    "            critic_value = critic_model([state_batch, actions], training=True)\n",
    "            # Used `-value` as we want to maximize the value given\n",
    "            # by the critic for our actions\n",
    "            actor_loss = -tf.math.reduce_mean(critic_value)\n",
    "\n",
    "        actor_grad = tape.gradient(actor_loss, actor_model.trainable_variables)\n",
    "        actor_optimizer.apply_gradients(\n",
    "            zip(actor_grad, actor_model.trainable_variables)\n",
    "        )\n",
    "\n",
    "    # We compute the loss and update parameters\n",
    "    def learn(self):\n",
    "        # Get sampling range\n",
    "        record_range = min(self.buffer_counter, self.buffer_capacity)\n",
    "        # Randomly sample indices\n",
    "        batch_indices = np.random.choice(record_range, self.batch_size)\n",
    "\n",
    "        # Convert to tensors\n",
    "        state_batch = tf.convert_to_tensor(self.state_buffer[batch_indices])\n",
    "        action_batch = tf.convert_to_tensor(self.action_buffer[batch_indices])\n",
    "        reward_batch = tf.convert_to_tensor(self.reward_buffer[batch_indices])\n",
    "        reward_batch = tf.cast(reward_batch, dtype=tf.float32)\n",
    "        next_state_batch = tf.convert_to_tensor(self.next_state_buffer[batch_indices])\n",
    "\n",
    "        self.update(state_batch, action_batch, reward_batch, next_state_batch)\n",
    "\n",
    "\n",
    "# This update target parameters slowly\n",
    "# Based on rate `tau`, which is much less than one.\n",
    "@tf.function\n",
    "def update_target(target_weights, weights, tau):\n",
    "    for (a, b) in zip(target_weights, weights):\n",
    "        a.assign(b * tau + a * (1 - tau))\n"
   ]
  },
  {
   "cell_type": "markdown",
   "metadata": {
    "colab_type": "text"
   },
   "source": [
    "Here we define the Actor and Critic networks. These are basic Dense models\n",
    "with `ReLU` activation.\n",
    "\n",
    "Note: We need the initialization for last layer of the Actor to be between\n",
    "`-0.003` and `0.003` as this prevents us from getting `1` or `-1` output values in\n",
    "the initial stages, which would squash our gradients to zero,\n",
    "as we use the `tanh` activation."
   ]
  },
  {
   "cell_type": "code",
   "execution_count": 5,
   "metadata": {
    "colab_type": "code"
   },
   "outputs": [],
   "source": [
    "\n",
    "def get_actor():\n",
    "    # Initialize weights between -3e-3 and 3-e3\n",
    "    last_init = tf.random_uniform_initializer(minval=-0.003, maxval=0.003)\n",
    "\n",
    "    inputs = layers.Input(shape=(num_states,))\n",
    "    out = layers.Dense(256, activation=\"relu\")(inputs)\n",
    "    out = layers.Dense(256, activation=\"relu\")(out)\n",
    "    outputs = layers.Dense(1, activation=\"tanh\", kernel_initializer=last_init)(out)\n",
    "\n",
    "    # Our upper bound is 2.0 for Pendulum.\n",
    "    outputs = outputs * upper_bound\n",
    "    model = tf.keras.Model(inputs, outputs)\n",
    "    return model\n",
    "\n",
    "\n",
    "def get_critic():\n",
    "    # State as input\n",
    "    state_input = layers.Input(shape=(num_states))\n",
    "    state_out = layers.Dense(16, activation=\"relu\")(state_input)\n",
    "    state_out = layers.Dense(32, activation=\"relu\")(state_out)\n",
    "\n",
    "    # Action as input\n",
    "    action_input = layers.Input(shape=(num_actions))\n",
    "    action_out = layers.Dense(32, activation=\"relu\")(action_input)\n",
    "\n",
    "    # Both are passed through seperate layer before concatenating\n",
    "    concat = layers.Concatenate()([state_out, action_out])\n",
    "\n",
    "    out = layers.Dense(256, activation=\"relu\")(concat)\n",
    "    out = layers.Dense(256, activation=\"relu\")(out)\n",
    "    outputs = layers.Dense(1)(out)\n",
    "\n",
    "    # Outputs single value for give state-action\n",
    "    model = tf.keras.Model([state_input, action_input], outputs)\n",
    "\n",
    "    return model\n"
   ]
  },
  {
   "cell_type": "markdown",
   "metadata": {
    "colab_type": "text"
   },
   "source": [
    "`policy()` returns an action sampled from our Actor network plus some noise for\n",
    "exploration."
   ]
  },
  {
   "cell_type": "code",
   "execution_count": 6,
   "metadata": {
    "colab_type": "code"
   },
   "outputs": [],
   "source": [
    "\n",
    "def policy(state, noise_object):\n",
    "    sampled_actions = tf.squeeze(actor_model(state))\n",
    "    noise = noise_object()\n",
    "    # Adding noise to action\n",
    "    sampled_actions = sampled_actions.numpy() + noise\n",
    "\n",
    "    # We make sure action is within bounds\n",
    "    legal_action = np.clip(sampled_actions, lower_bound, upper_bound)\n",
    "\n",
    "    return [np.squeeze(legal_action)]\n"
   ]
  },
  {
   "cell_type": "markdown",
   "metadata": {
    "colab_type": "text"
   },
   "source": [
    "## Training hyperparameters"
   ]
  },
  {
   "cell_type": "code",
   "execution_count": 7,
   "metadata": {
    "colab_type": "code"
   },
   "outputs": [],
   "source": [
    "std_dev = 0.2\n",
    "ou_noise = OUActionNoise(mean=np.zeros(1), std_deviation=float(std_dev) * np.ones(1))\n",
    "\n",
    "actor_model = get_actor()\n",
    "critic_model = get_critic()\n",
    "\n",
    "target_actor = get_actor()\n",
    "target_critic = get_critic()\n",
    "\n",
    "# Making the weights equal initially\n",
    "target_actor.set_weights(actor_model.get_weights())\n",
    "target_critic.set_weights(critic_model.get_weights())\n",
    "\n",
    "# Learning rate for actor-critic models\n",
    "critic_lr = 0.002\n",
    "actor_lr = 0.001\n",
    "\n",
    "critic_optimizer = tf.keras.optimizers.Adam(critic_lr)\n",
    "actor_optimizer = tf.keras.optimizers.Adam(actor_lr)\n",
    "\n",
    "total_episodes = 2\n",
    "# Discount factor for future rewards\n",
    "gamma = 0.99\n",
    "# Used to update target networks\n",
    "tau = 0.005\n",
    "\n",
    "buffer = Buffer(50000, 64)"
   ]
  },
  {
   "cell_type": "markdown",
   "metadata": {
    "colab_type": "text"
   },
   "source": [
    "Now we implement our main training loop, and iterate over episodes.\n",
    "We sample actions using `policy()` and train with `learn()` at each time step,\n",
    "along with updating the Target networks at a rate `tau`."
   ]
  },
  {
   "cell_type": "code",
   "execution_count": 8,
   "metadata": {
    "colab_type": "code"
   },
   "outputs": [
    {
     "name": "stdout",
     "output_type": "stream",
     "text": [
      "<class 'numpy.ndarray'> (array([-0.24080044, -0.9705747 ,  0.19422244], dtype=float32), {})\n",
      "<class 'numpy.ndarray'> (array([-0.2668285 , -0.96374404, -0.5382047 ], dtype=float32), {})\n",
      "<class 'numpy.ndarray'> (array([-0.32697198, -0.945034  , -1.2599386 ], dtype=float32), {})\n",
      "<class 'numpy.ndarray'> (array([-0.41819775, -0.908356  , -1.967254  ], dtype=float32), {})\n",
      "<class 'numpy.ndarray'> (array([-0.534141 , -0.8453954, -2.6406202], dtype=float32), {})\n",
      "<class 'numpy.ndarray'> (array([-0.66428286, -0.7474813 , -3.2608523 ], dtype=float32), {})\n",
      "<class 'numpy.ndarray'> (array([-0.7936432 , -0.60838354, -3.8048031 ], dtype=float32), {})\n",
      "<class 'numpy.ndarray'> (array([-0.90414226, -0.42723155, -4.2518725 ], dtype=float32), {})\n",
      "<class 'numpy.ndarray'> (array([-0.9774619 , -0.21111187, -4.5743246 ], dtype=float32), {})\n",
      "<class 'numpy.ndarray'> (array([-0.99970406,  0.02432555, -4.7408056 ], dtype=float32), {})\n",
      "<class 'numpy.ndarray'> (array([-0.9662125,  0.2577467, -4.7272286], dtype=float32), {})\n",
      "<class 'numpy.ndarray'> (array([-0.88341254,  0.468596  , -4.5402293 ], dtype=float32), {})\n",
      "<class 'numpy.ndarray'> (array([-0.7665303,  0.6422082, -4.193495 ], dtype=float32), {})\n",
      "<class 'numpy.ndarray'> (array([-0.634704 ,  0.7727553, -3.7159061], dtype=float32), {})\n",
      "<class 'numpy.ndarray'> (array([-0.50597155,  0.8625502 , -3.14235   ], dtype=float32), {})\n",
      "<class 'numpy.ndarray'> (array([-0.3943594,  0.9189563, -2.5027456], dtype=float32), {})\n",
      "<class 'numpy.ndarray'> (array([-0.30935082,  0.950948  , -1.8172075 ], dtype=float32), {})\n",
      "<class 'numpy.ndarray'> (array([-0.25612715,  0.9666431 , -1.1099348 ], dtype=float32), {})\n",
      "<class 'numpy.ndarray'> (array([-0.23714845,  0.9714734 , -0.39168093], dtype=float32), {})\n",
      "<class 'numpy.ndarray'> (array([-0.25315246,  0.9674264 ,  0.3301594 ], dtype=float32), {})\n",
      "<class 'numpy.ndarray'> (array([-0.30358687,  0.9528038 ,  1.0503492 ], dtype=float32), {})\n",
      "<class 'numpy.ndarray'> (array([-0.38605008,  0.92247784,  1.7578187 ], dtype=float32), {})\n",
      "<class 'numpy.ndarray'> (array([-0.49566478,  0.86851394,  2.4450843 ], dtype=float32), {})\n",
      "<class 'numpy.ndarray'> (array([-0.62360185,  0.7817421 ,  3.0948331 ], dtype=float32), {})\n",
      "<class 'numpy.ndarray'> (array([-0.7559379 ,  0.65464336,  3.674876  ], dtype=float32), {})\n",
      "<class 'numpy.ndarray'> (array([-0.87464184,  0.48476967,  4.1522193 ], dtype=float32), {})\n",
      "<class 'numpy.ndarray'> (array([-0.9607933 ,  0.27726552,  4.503059  ], dtype=float32), {})\n",
      "<class 'numpy.ndarray'> (array([-0.9989408 ,  0.04601274,  4.698357  ], dtype=float32), {})\n",
      "<class 'numpy.ndarray'> (array([-0.982005  , -0.18885487,  4.720498  ], dtype=float32), {})\n",
      "<class 'numpy.ndarray'> (array([-0.9137092, -0.4063686,  4.569606 ], dtype=float32), {})\n",
      "<class 'numpy.ndarray'> (array([-0.8073224 , -0.59011066,  4.254394  ], dtype=float32), {})\n",
      "<class 'numpy.ndarray'> (array([-0.6813227, -0.7319832,  3.8006456], dtype=float32), {})\n",
      "<class 'numpy.ndarray'> (array([-0.5539221, -0.8325685,  3.2500083], dtype=float32), {})\n",
      "<class 'numpy.ndarray'> (array([-0.4402629 , -0.89786893,  2.6235251 ], dtype=float32), {})\n",
      "<class 'numpy.ndarray'> (array([-0.35109344, -0.93634045,  1.9430571 ], dtype=float32), {})\n",
      "<class 'numpy.ndarray'> (array([-0.2927429, -0.9561912,  1.2328892], dtype=float32), {})\n",
      "<class 'numpy.ndarray'> (array([-0.26834577, -0.96332264,  0.50837517], dtype=float32), {})\n",
      "<class 'numpy.ndarray'> (array([-0.2789701 , -0.9602998 , -0.22092132], dtype=float32), {})\n",
      "<class 'numpy.ndarray'> (array([-0.32405365, -0.9460387 , -0.945795  ], dtype=float32), {})\n",
      "<class 'numpy.ndarray'> (array([-0.40132204, -0.915937  , -1.6589711 ], dtype=float32), {})\n",
      "<class 'numpy.ndarray'> (array([-0.5058432, -0.8626254, -2.3479884], dtype=float32), {})\n",
      "<class 'numpy.ndarray'> (array([-0.6287892, -0.7775758, -2.9927177], dtype=float32), {})\n",
      "<class 'numpy.ndarray'> (array([-0.75675195, -0.65370214, -3.566699  ], dtype=float32), {})\n",
      "<class 'numpy.ndarray'> (array([-0.8726942 , -0.48826715, -4.0472655 ], dtype=float32), {})\n",
      "<class 'numpy.ndarray'> (array([-0.9582596 , -0.28589964, -4.403158  ], dtype=float32), {})\n",
      "<class 'numpy.ndarray'> (array([-0.9982484 , -0.05916197, -4.6149716 ], dtype=float32), {})\n",
      "<class 'numpy.ndarray'> (array([-0.9849299 ,  0.17295383, -4.660489  ], dtype=float32), {})\n",
      "<class 'numpy.ndarray'> (array([-0.92085063,  0.3899156 , -4.53424   ], dtype=float32), {})\n",
      "<class 'numpy.ndarray'> (array([-0.8180414,  0.5751593, -4.24518  ], dtype=float32), {})\n",
      "<class 'numpy.ndarray'> (array([-0.693963 ,  0.7200107, -3.8203757], dtype=float32), {})\n",
      "<class 'numpy.ndarray'> (array([-0.5669448,  0.8237558, -3.2837288], dtype=float32), {})\n",
      "<class 'numpy.ndarray'> (array([-0.45222023,  0.8919063 , -2.670782  ], dtype=float32), {})\n",
      "<class 'numpy.ndarray'> (array([-0.36059186,  0.9327237 , -2.0070143 ], dtype=float32), {})\n",
      "<class 'numpy.ndarray'> (array([-0.29867864,  0.95435375, -1.3118913 ], dtype=float32), {})\n",
      "<class 'numpy.ndarray'> (array([-0.26980504,  0.96291494, -0.6023445 ], dtype=float32), {})\n",
      "<class 'numpy.ndarray'> (array([-0.27535513,  0.9613426 ,  0.11537062], dtype=float32), {})\n",
      "<class 'numpy.ndarray'> (array([-0.31504408,  0.94907707,  0.8308796 ], dtype=float32), {})\n",
      "<class 'numpy.ndarray'> (array([-0.38710862,  0.92203414,  1.5398111 ], dtype=float32), {})\n",
      "<class 'numpy.ndarray'> (array([-0.4873227,  0.873222 ,  2.2305489], dtype=float32), {})\n",
      "<class 'numpy.ndarray'> (array([-0.6078483,  0.7940532,  2.8865376], dtype=float32), {})\n",
      "<class 'numpy.ndarray'> (array([-0.73630273,  0.6766523 ,  3.4848387 ], dtype=float32), {})\n",
      "<class 'numpy.ndarray'> (array([-0.8559106,  0.5171238,  3.994385 ], dtype=float32), {})\n",
      "<class 'numpy.ndarray'> (array([-0.9479856 ,  0.31831324,  4.3907504 ], dtype=float32), {})\n",
      "<class 'numpy.ndarray'> (array([-0.99576205,  0.09196704,  4.6370497 ], dtype=float32), {})\n",
      "<class 'numpy.ndarray'> (array([-0.9897124 , -0.14307097,  4.713216  ], dtype=float32), {})\n",
      "<class 'numpy.ndarray'> (array([-0.93071955, -0.36573365,  4.6171465 ], dtype=float32), {})\n",
      "<class 'numpy.ndarray'> (array([-0.8296292 , -0.55831474,  4.358643  ], dtype=float32), {})\n",
      "<class 'numpy.ndarray'> (array([-0.7036214, -0.7105751,  3.9592419], dtype=float32), {})\n",
      "<class 'numpy.ndarray'> (array([-0.5713009, -0.8207407,  3.447822 ], dtype=float32), {})\n",
      "<class 'numpy.ndarray'> (array([-0.4484953, -0.8937852,  2.8601782], dtype=float32), {})\n",
      "<class 'numpy.ndarray'> (array([-0.34686664, -0.9379145 ,  2.2170575 ], dtype=float32), {})\n",
      "<class 'numpy.ndarray'> (array([-0.27358103, -0.961849  ,  1.542282  ], dtype=float32), {})\n",
      "<class 'numpy.ndarray'> (array([-0.23250794, -0.9725945 ,  0.84917283], dtype=float32), {})\n",
      "<class 'numpy.ndarray'> (array([-0.22537126, -0.97427297,  0.14662848], dtype=float32), {})\n",
      "<class 'numpy.ndarray'> (array([-0.2524142, -0.9676193, -0.557007 ], dtype=float32), {})\n",
      "<class 'numpy.ndarray'> (array([-0.31276467, -0.94983065, -1.2585585 ], dtype=float32), {})\n",
      "<class 'numpy.ndarray'> (array([-0.40385348, -0.9148237 , -1.9524568 ], dtype=float32), {})\n",
      "<class 'numpy.ndarray'> (array([-0.5196721 , -0.85436577, -2.6148386 ], dtype=float32), {})\n",
      "<class 'numpy.ndarray'> (array([-0.6502411 , -0.75972795, -3.2286916 ], dtype=float32), {})\n",
      "<class 'numpy.ndarray'> (array([-0.781088  , -0.62442094, -3.7700932 ], dtype=float32), {})\n",
      "<class 'numpy.ndarray'> (array([-0.8942069 , -0.44765398, -4.2049985 ], dtype=float32), {})\n",
      "<class 'numpy.ndarray'> (array([-0.97166795, -0.23635022, -4.510642  ], dtype=float32), {})\n",
      "<class 'numpy.ndarray'> (array([-0.99998325, -0.00579152, -4.6563277 ], dtype=float32), {})\n",
      "<class 'numpy.ndarray'> (array([-0.9746646 ,  0.22367138, -4.6274242 ], dtype=float32), {})\n",
      "<class 'numpy.ndarray'> (array([-0.90176845,  0.43221954, -4.4274592 ], dtype=float32), {})\n",
      "<class 'numpy.ndarray'> (array([-0.7959039,  0.6054229, -4.0668902], dtype=float32), {})\n",
      "<class 'numpy.ndarray'> (array([-0.6759315 ,  0.73696446, -3.5654247 ], dtype=float32), {})\n",
      "<class 'numpy.ndarray'> (array([-0.5595299 ,  0.82881016, -2.9681897 ], dtype=float32), {})\n",
      "<class 'numpy.ndarray'> (array([-0.46079433,  0.88750696, -2.2985692 ], dtype=float32), {})\n",
      "<class 'numpy.ndarray'> (array([-0.38909253,  0.92119867, -1.5848746 ], dtype=float32), {})\n",
      "<class 'numpy.ndarray'> (array([-0.34981725,  0.93681794, -0.8454056 ], dtype=float32), {})\n",
      "<class 'numpy.ndarray'> (array([-0.34540507,  0.9384537 , -0.0941126 ], dtype=float32), {})\n",
      "<class 'numpy.ndarray'> (array([-0.3763073 ,  0.9264949 ,  0.66274023], dtype=float32), {})\n",
      "<class 'numpy.ndarray'> (array([-0.4410989,  0.8974585,  1.4203073], dtype=float32), {})\n",
      "<class 'numpy.ndarray'> (array([-0.53602237,  0.84420377,  2.177911  ], dtype=float32), {})\n",
      "<class 'numpy.ndarray'> (array([-0.6531023 ,  0.75726974,  2.9191117 ], dtype=float32), {})\n",
      "<class 'numpy.ndarray'> (array([-0.7789783,  0.6270509,  3.627218 ], dtype=float32), {})\n",
      "<class 'numpy.ndarray'> (array([-0.89409715,  0.44787303,  4.2675304 ], dtype=float32), {})\n",
      "<class 'numpy.ndarray'> (array([-0.97490263,  0.22263172,  4.7974377 ], dtype=float32), {})\n",
      "<class 'numpy.ndarray'> (array([-0.9994189 , -0.03408647,  5.1721234 ], dtype=float32), {})\n",
      "<class 'numpy.ndarray'> (array([-0.95480704, -0.2972263 ,  5.3538656 ], dtype=float32), {})\n",
      "<class 'numpy.ndarray'> (array([-0.8427141 , -0.53836143,  5.3341026 ], dtype=float32), {})\n",
      "<class 'numpy.ndarray'> (array([-0.6789533 , -0.73418146,  5.1193776 ], dtype=float32), {})\n",
      "<class 'numpy.ndarray'> (array([-0.48820296, -0.87273014,  4.7261305 ], dtype=float32), {})\n",
      "<class 'numpy.ndarray'> (array([-0.2957378 , -0.95526916,  4.1960335 ], dtype=float32), {})\n",
      "<class 'numpy.ndarray'> (array([-0.12110364, -0.99263984,  3.5765228 ], dtype=float32), {})\n",
      "<class 'numpy.ndarray'> (array([ 0.02450311, -0.9996998 ,  2.918144  ], dtype=float32), {})\n",
      "<class 'numpy.ndarray'> (array([ 0.13644353, -0.99064785,  2.247298  ], dtype=float32), {})\n",
      "<class 'numpy.ndarray'> (array([ 0.21394344, -0.97684604,  1.5747925 ], dtype=float32), {})\n",
      "<class 'numpy.ndarray'> (array([ 0.25807923, -0.96612376,  0.908469  ], dtype=float32), {})\n",
      "<class 'numpy.ndarray'> (array([ 0.2697329 , -0.96293515,  0.2416419 ], dtype=float32), {})\n",
      "<class 'numpy.ndarray'> (array([ 0.24912198, -0.9684721 , -0.42684203], dtype=float32), {})\n",
      "<class 'numpy.ndarray'> (array([ 0.19549955, -0.9807038 , -1.1001347 ], dtype=float32), {})\n",
      "<class 'numpy.ndarray'> (array([ 0.10735426, -0.99422085, -1.7841053 ], dtype=float32), {})\n",
      "<class 'numpy.ndarray'> (array([-0.01610969, -0.99987024, -2.4734387 ], dtype=float32), {})\n",
      "<class 'numpy.ndarray'> (array([-0.1734458 , -0.98484343, -3.164341  ], dtype=float32), {})\n",
      "<class 'numpy.ndarray'> (array([-0.35843736, -0.93355376, -3.845321  ], dtype=float32), {})\n",
      "<class 'numpy.ndarray'> (array([-0.55694234, -0.83055115, -4.482126  ], dtype=float32), {})\n",
      "<class 'numpy.ndarray'> (array([-0.74649894, -0.6653866 , -5.041699  ], dtype=float32), {})\n",
      "<class 'numpy.ndarray'> (array([-0.8986765 , -0.43861207, -5.4791584 ], dtype=float32), {})\n",
      "<class 'numpy.ndarray'> (array([-0.986069  , -0.16633679, -5.738803  ], dtype=float32), {})\n",
      "<class 'numpy.ndarray'> (array([-0.99250627,  0.12219382, -5.79227   ], dtype=float32), {})\n",
      "<class 'numpy.ndarray'> (array([-0.9196278 ,  0.39279094, -5.6232905 ], dtype=float32), {})\n",
      "<class 'numpy.ndarray'> (array([-0.7867537,  0.6172671, -5.231995 ], dtype=float32), {})\n",
      "<class 'numpy.ndarray'> (array([-0.6230274,  0.7822   , -4.658499 ], dtype=float32), {})\n",
      "<class 'numpy.ndarray'> (array([-0.45776355,  0.88907397, -3.942581  ], dtype=float32), {})\n",
      "<class 'numpy.ndarray'> (array([-0.31327197,  0.94966346, -3.1368322 ], dtype=float32), {})\n",
      "<class 'numpy.ndarray'> (array([-0.20330039,  0.97911644, -2.278179  ], dtype=float32), {})\n",
      "<class 'numpy.ndarray'> (array([-0.13457304,  0.9909037 , -1.3948989 ], dtype=float32), {})\n",
      "<class 'numpy.ndarray'> (array([-0.1093054 ,  0.99400824, -0.50916666], dtype=float32), {})\n",
      "<class 'numpy.ndarray'> (array([-0.12733711,  0.9918595 ,  0.36319047], dtype=float32), {})\n",
      "<class 'numpy.ndarray'> (array([-0.18849373,  0.9820744 ,  1.2388879 ], dtype=float32), {})\n",
      "<class 'numpy.ndarray'> (array([-0.29545867,  0.9553555 ,  2.2061486 ], dtype=float32), {})\n",
      "<class 'numpy.ndarray'> (array([-0.4449056,  0.8955775,  3.2226653], dtype=float32), {})\n",
      "<class 'numpy.ndarray'> (array([-0.62160206,  0.7833332 ,  4.1943483 ], dtype=float32), {})\n",
      "<class 'numpy.ndarray'> (array([-0.79854774,  0.60193145,  5.081848  ], dtype=float32), {})\n",
      "<class 'numpy.ndarray'> (array([-0.93790597,  0.34688967,  5.833297  ], dtype=float32), {})\n",
      "<class 'numpy.ndarray'> (array([-0.99940217,  0.03457272,  6.393464  ], dtype=float32), {})\n",
      "<class 'numpy.ndarray'> (array([-0.95492476, -0.2968479 ,  6.7193937 ], dtype=float32), {})\n",
      "<class 'numpy.ndarray'> (array([-0.8013618 , -0.59817994,  6.7967577 ], dtype=float32), {})\n",
      "<class 'numpy.ndarray'> (array([-0.5622981 , -0.82693464,  6.648123  ], dtype=float32), {})\n",
      "<class 'numpy.ndarray'> (array([-0.2770919 , -0.96084344,  6.327922  ], dtype=float32), {})\n",
      "<class 'numpy.ndarray'> (array([ 0.01459779, -0.9998934 ,  5.907289  ], dtype=float32), {})\n",
      "<class 'numpy.ndarray'> (array([ 0.28352386, -0.9589652 ,  5.4573693 ], dtype=float32), {})\n",
      "<class 'numpy.ndarray'> (array([ 0.513599 , -0.8580304,  5.038145 ], dtype=float32), {})\n",
      "<class 'numpy.ndarray'> (array([ 0.6990765, -0.7150469,  4.6946225], dtype=float32), {})\n",
      "<class 'numpy.ndarray'> (array([ 0.83985823, -0.5428058 ,  4.4583373 ], dtype=float32), {})\n",
      "<class 'numpy.ndarray'> (array([ 0.93722427, -0.34872717,  4.351233  ], dtype=float32), {})\n",
      "<class 'numpy.ndarray'> (array([ 0.9906672 , -0.13630268,  4.3896875 ], dtype=float32), {})\n",
      "<class 'numpy.ndarray'> (array([0.99571157, 0.09251226, 4.5874605 ], dtype=float32), {})\n",
      "<class 'numpy.ndarray'> (array([0.94259214, 0.33394614, 4.956845  ], dtype=float32), {})\n",
      "<class 'numpy.ndarray'> (array([0.8162815 , 0.57765436, 5.507304  ], dtype=float32), {})\n",
      "<class 'numpy.ndarray'> (array([0.5995325, 0.8003504, 6.2405453], dtype=float32), {})\n",
      "<class 'numpy.ndarray'> (array([0.28199846, 0.95941484, 7.140808  ], dtype=float32), {})\n",
      "<class 'numpy.ndarray'> (array([-0.11387595,  0.993495  ,  8.        ], dtype=float32), {})\n",
      "<class 'numpy.ndarray'> (array([-0.49177188,  0.8707241 ,  8.        ], dtype=float32), {})\n",
      "<class 'numpy.ndarray'> (array([-0.79202783,  0.610485  ,  8.        ], dtype=float32), {})\n",
      "<class 'numpy.ndarray'> (array([-0.96724   ,  0.25386378,  8.        ], dtype=float32), {})\n"
     ]
    },
    {
     "ename": "KeyboardInterrupt",
     "evalue": "",
     "output_type": "error",
     "traceback": [
      "\u001b[0;31m---------------------------------------------------------------------------\u001b[0m",
      "\u001b[0;31mKeyboardInterrupt\u001b[0m                         Traceback (most recent call last)",
      "\u001b[0;32m<ipython-input-8-aa938d4e21d8>\u001b[0m in \u001b[0;36m<module>\u001b[0;34m\u001b[0m\n\u001b[1;32m     25\u001b[0m         \u001b[0mepisodic_reward\u001b[0m \u001b[0;34m+=\u001b[0m \u001b[0mreward\u001b[0m\u001b[0;34m\u001b[0m\u001b[0;34m\u001b[0m\u001b[0m\n\u001b[1;32m     26\u001b[0m         \u001b[0mprint\u001b[0m\u001b[0;34m(\u001b[0m\u001b[0mtype\u001b[0m\u001b[0;34m(\u001b[0m\u001b[0mstate\u001b[0m\u001b[0;34m)\u001b[0m\u001b[0;34m,\u001b[0m\u001b[0mprev_state\u001b[0m\u001b[0;34m)\u001b[0m\u001b[0;34m\u001b[0m\u001b[0;34m\u001b[0m\u001b[0m\n\u001b[0;32m---> 27\u001b[0;31m         \u001b[0mbuffer\u001b[0m\u001b[0;34m.\u001b[0m\u001b[0mlearn\u001b[0m\u001b[0;34m(\u001b[0m\u001b[0;34m)\u001b[0m\u001b[0;34m\u001b[0m\u001b[0;34m\u001b[0m\u001b[0m\n\u001b[0m\u001b[1;32m     28\u001b[0m         \u001b[0mupdate_target\u001b[0m\u001b[0;34m(\u001b[0m\u001b[0mtarget_actor\u001b[0m\u001b[0;34m.\u001b[0m\u001b[0mvariables\u001b[0m\u001b[0;34m,\u001b[0m \u001b[0mactor_model\u001b[0m\u001b[0;34m.\u001b[0m\u001b[0mvariables\u001b[0m\u001b[0;34m,\u001b[0m \u001b[0mtau\u001b[0m\u001b[0;34m)\u001b[0m\u001b[0;34m\u001b[0m\u001b[0;34m\u001b[0m\u001b[0m\n\u001b[1;32m     29\u001b[0m         \u001b[0mupdate_target\u001b[0m\u001b[0;34m(\u001b[0m\u001b[0mtarget_critic\u001b[0m\u001b[0;34m.\u001b[0m\u001b[0mvariables\u001b[0m\u001b[0;34m,\u001b[0m \u001b[0mcritic_model\u001b[0m\u001b[0;34m.\u001b[0m\u001b[0mvariables\u001b[0m\u001b[0;34m,\u001b[0m \u001b[0mtau\u001b[0m\u001b[0;34m)\u001b[0m\u001b[0;34m\u001b[0m\u001b[0;34m\u001b[0m\u001b[0m\n",
      "\u001b[0;32m<ipython-input-4-90df131dddb5>\u001b[0m in \u001b[0;36mlearn\u001b[0;34m(self)\u001b[0m\n\u001b[1;32m     77\u001b[0m         \u001b[0mnext_state_batch\u001b[0m \u001b[0;34m=\u001b[0m \u001b[0mtf\u001b[0m\u001b[0;34m.\u001b[0m\u001b[0mconvert_to_tensor\u001b[0m\u001b[0;34m(\u001b[0m\u001b[0mself\u001b[0m\u001b[0;34m.\u001b[0m\u001b[0mnext_state_buffer\u001b[0m\u001b[0;34m[\u001b[0m\u001b[0mbatch_indices\u001b[0m\u001b[0;34m]\u001b[0m\u001b[0;34m)\u001b[0m\u001b[0;34m\u001b[0m\u001b[0;34m\u001b[0m\u001b[0m\n\u001b[1;32m     78\u001b[0m \u001b[0;34m\u001b[0m\u001b[0m\n\u001b[0;32m---> 79\u001b[0;31m         \u001b[0mself\u001b[0m\u001b[0;34m.\u001b[0m\u001b[0mupdate\u001b[0m\u001b[0;34m(\u001b[0m\u001b[0mstate_batch\u001b[0m\u001b[0;34m,\u001b[0m \u001b[0maction_batch\u001b[0m\u001b[0;34m,\u001b[0m \u001b[0mreward_batch\u001b[0m\u001b[0;34m,\u001b[0m \u001b[0mnext_state_batch\u001b[0m\u001b[0;34m)\u001b[0m\u001b[0;34m\u001b[0m\u001b[0;34m\u001b[0m\u001b[0m\n\u001b[0m\u001b[1;32m     80\u001b[0m \u001b[0;34m\u001b[0m\u001b[0m\n\u001b[1;32m     81\u001b[0m \u001b[0;34m\u001b[0m\u001b[0m\n",
      "\u001b[0;32m~/.local/lib/python3.6/site-packages/tensorflow/python/eager/def_function.py\u001b[0m in \u001b[0;36m__call__\u001b[0;34m(self, *args, **kwds)\u001b[0m\n\u001b[1;32m    883\u001b[0m \u001b[0;34m\u001b[0m\u001b[0m\n\u001b[1;32m    884\u001b[0m       \u001b[0;32mwith\u001b[0m \u001b[0mOptionalXlaContext\u001b[0m\u001b[0;34m(\u001b[0m\u001b[0mself\u001b[0m\u001b[0;34m.\u001b[0m\u001b[0m_jit_compile\u001b[0m\u001b[0;34m)\u001b[0m\u001b[0;34m:\u001b[0m\u001b[0;34m\u001b[0m\u001b[0;34m\u001b[0m\u001b[0m\n\u001b[0;32m--> 885\u001b[0;31m         \u001b[0mresult\u001b[0m \u001b[0;34m=\u001b[0m \u001b[0mself\u001b[0m\u001b[0;34m.\u001b[0m\u001b[0m_call\u001b[0m\u001b[0;34m(\u001b[0m\u001b[0;34m*\u001b[0m\u001b[0margs\u001b[0m\u001b[0;34m,\u001b[0m \u001b[0;34m**\u001b[0m\u001b[0mkwds\u001b[0m\u001b[0;34m)\u001b[0m\u001b[0;34m\u001b[0m\u001b[0;34m\u001b[0m\u001b[0m\n\u001b[0m\u001b[1;32m    886\u001b[0m \u001b[0;34m\u001b[0m\u001b[0m\n\u001b[1;32m    887\u001b[0m       \u001b[0mnew_tracing_count\u001b[0m \u001b[0;34m=\u001b[0m \u001b[0mself\u001b[0m\u001b[0;34m.\u001b[0m\u001b[0mexperimental_get_tracing_count\u001b[0m\u001b[0;34m(\u001b[0m\u001b[0;34m)\u001b[0m\u001b[0;34m\u001b[0m\u001b[0;34m\u001b[0m\u001b[0m\n",
      "\u001b[0;32m~/.local/lib/python3.6/site-packages/tensorflow/python/eager/def_function.py\u001b[0m in \u001b[0;36m_call\u001b[0;34m(self, *args, **kwds)\u001b[0m\n\u001b[1;32m    915\u001b[0m       \u001b[0;31m# In this case we have created variables on the first call, so we run the\u001b[0m\u001b[0;34m\u001b[0m\u001b[0;34m\u001b[0m\u001b[0;34m\u001b[0m\u001b[0m\n\u001b[1;32m    916\u001b[0m       \u001b[0;31m# defunned version which is guaranteed to never create variables.\u001b[0m\u001b[0;34m\u001b[0m\u001b[0;34m\u001b[0m\u001b[0;34m\u001b[0m\u001b[0m\n\u001b[0;32m--> 917\u001b[0;31m       \u001b[0;32mreturn\u001b[0m \u001b[0mself\u001b[0m\u001b[0;34m.\u001b[0m\u001b[0m_stateless_fn\u001b[0m\u001b[0;34m(\u001b[0m\u001b[0;34m*\u001b[0m\u001b[0margs\u001b[0m\u001b[0;34m,\u001b[0m \u001b[0;34m**\u001b[0m\u001b[0mkwds\u001b[0m\u001b[0;34m)\u001b[0m  \u001b[0;31m# pylint: disable=not-callable\u001b[0m\u001b[0;34m\u001b[0m\u001b[0;34m\u001b[0m\u001b[0m\n\u001b[0m\u001b[1;32m    918\u001b[0m     \u001b[0;32melif\u001b[0m \u001b[0mself\u001b[0m\u001b[0;34m.\u001b[0m\u001b[0m_stateful_fn\u001b[0m \u001b[0;32mis\u001b[0m \u001b[0;32mnot\u001b[0m \u001b[0;32mNone\u001b[0m\u001b[0;34m:\u001b[0m\u001b[0;34m\u001b[0m\u001b[0;34m\u001b[0m\u001b[0m\n\u001b[1;32m    919\u001b[0m       \u001b[0;31m# Release the lock early so that multiple threads can perform the call\u001b[0m\u001b[0;34m\u001b[0m\u001b[0;34m\u001b[0m\u001b[0;34m\u001b[0m\u001b[0m\n",
      "\u001b[0;32m~/.local/lib/python3.6/site-packages/tensorflow/python/eager/function.py\u001b[0m in \u001b[0;36m__call__\u001b[0;34m(self, *args, **kwargs)\u001b[0m\n\u001b[1;32m   3038\u001b[0m        filtered_flat_args) = self._maybe_define_function(args, kwargs)\n\u001b[1;32m   3039\u001b[0m     return graph_function._call_flat(\n\u001b[0;32m-> 3040\u001b[0;31m         filtered_flat_args, captured_inputs=graph_function.captured_inputs)  # pylint: disable=protected-access\n\u001b[0m\u001b[1;32m   3041\u001b[0m \u001b[0;34m\u001b[0m\u001b[0m\n\u001b[1;32m   3042\u001b[0m   \u001b[0;34m@\u001b[0m\u001b[0mproperty\u001b[0m\u001b[0;34m\u001b[0m\u001b[0;34m\u001b[0m\u001b[0m\n",
      "\u001b[0;32m~/.local/lib/python3.6/site-packages/tensorflow/python/eager/function.py\u001b[0m in \u001b[0;36m_call_flat\u001b[0;34m(self, args, captured_inputs, cancellation_manager)\u001b[0m\n\u001b[1;32m   1962\u001b[0m       \u001b[0;31m# No tape is watching; skip to running the function.\u001b[0m\u001b[0;34m\u001b[0m\u001b[0;34m\u001b[0m\u001b[0;34m\u001b[0m\u001b[0m\n\u001b[1;32m   1963\u001b[0m       return self._build_call_outputs(self._inference_function.call(\n\u001b[0;32m-> 1964\u001b[0;31m           ctx, args, cancellation_manager=cancellation_manager))\n\u001b[0m\u001b[1;32m   1965\u001b[0m     forward_backward = self._select_forward_and_backward_functions(\n\u001b[1;32m   1966\u001b[0m         \u001b[0margs\u001b[0m\u001b[0;34m,\u001b[0m\u001b[0;34m\u001b[0m\u001b[0;34m\u001b[0m\u001b[0m\n",
      "\u001b[0;32m~/.local/lib/python3.6/site-packages/tensorflow/python/eager/function.py\u001b[0m in \u001b[0;36mcall\u001b[0;34m(self, ctx, args, cancellation_manager)\u001b[0m\n\u001b[1;32m    594\u001b[0m               \u001b[0minputs\u001b[0m\u001b[0;34m=\u001b[0m\u001b[0margs\u001b[0m\u001b[0;34m,\u001b[0m\u001b[0;34m\u001b[0m\u001b[0;34m\u001b[0m\u001b[0m\n\u001b[1;32m    595\u001b[0m               \u001b[0mattrs\u001b[0m\u001b[0;34m=\u001b[0m\u001b[0mattrs\u001b[0m\u001b[0;34m,\u001b[0m\u001b[0;34m\u001b[0m\u001b[0;34m\u001b[0m\u001b[0m\n\u001b[0;32m--> 596\u001b[0;31m               ctx=ctx)\n\u001b[0m\u001b[1;32m    597\u001b[0m         \u001b[0;32melse\u001b[0m\u001b[0;34m:\u001b[0m\u001b[0;34m\u001b[0m\u001b[0;34m\u001b[0m\u001b[0m\n\u001b[1;32m    598\u001b[0m           outputs = execute.execute_with_cancellation(\n",
      "\u001b[0;32m~/.local/lib/python3.6/site-packages/tensorflow/python/eager/execute.py\u001b[0m in \u001b[0;36mquick_execute\u001b[0;34m(op_name, num_outputs, inputs, attrs, ctx, name)\u001b[0m\n\u001b[1;32m     58\u001b[0m     \u001b[0mctx\u001b[0m\u001b[0;34m.\u001b[0m\u001b[0mensure_initialized\u001b[0m\u001b[0;34m(\u001b[0m\u001b[0;34m)\u001b[0m\u001b[0;34m\u001b[0m\u001b[0;34m\u001b[0m\u001b[0m\n\u001b[1;32m     59\u001b[0m     tensors = pywrap_tfe.TFE_Py_Execute(ctx._handle, device_name, op_name,\n\u001b[0;32m---> 60\u001b[0;31m                                         inputs, attrs, num_outputs)\n\u001b[0m\u001b[1;32m     61\u001b[0m   \u001b[0;32mexcept\u001b[0m \u001b[0mcore\u001b[0m\u001b[0;34m.\u001b[0m\u001b[0m_NotOkStatusException\u001b[0m \u001b[0;32mas\u001b[0m \u001b[0me\u001b[0m\u001b[0;34m:\u001b[0m\u001b[0;34m\u001b[0m\u001b[0;34m\u001b[0m\u001b[0m\n\u001b[1;32m     62\u001b[0m     \u001b[0;32mif\u001b[0m \u001b[0mname\u001b[0m \u001b[0;32mis\u001b[0m \u001b[0;32mnot\u001b[0m \u001b[0;32mNone\u001b[0m\u001b[0;34m:\u001b[0m\u001b[0;34m\u001b[0m\u001b[0;34m\u001b[0m\u001b[0m\n",
      "\u001b[0;31mKeyboardInterrupt\u001b[0m: "
     ]
    }
   ],
   "source": [
    "# To store reward history of each episode\n",
    "ep_reward_list = []\n",
    "# To store average reward history of last few episodes\n",
    "avg_reward_list = []\n",
    "\n",
    "# Takes about 4 min to train\n",
    "for ep in range(total_episodes):\n",
    "\n",
    "    prev_state = env.reset()\n",
    "    episodic_reward = 0\n",
    "\n",
    "    while True:\n",
    "    #for count in range(2):\n",
    "        # Uncomment this to see the Actor in action\n",
    "        # But not in a python notebook.\n",
    "        # env.render()\n",
    "\n",
    "        tf_prev_state = tf.expand_dims(tf.convert_to_tensor(prev_state[0]), 0)\n",
    "\n",
    "        action = policy(tf_prev_state, ou_noise)\n",
    "        # Recieve state and reward from environment.\n",
    "        state, reward, done, info,_ = env.step(action)\n",
    "\n",
    "        buffer.record((prev_state[0], action, reward, state))\n",
    "        episodic_reward += reward\n",
    "        print(type(state),prev_state)\n",
    "        buffer.learn()\n",
    "        update_target(target_actor.variables, actor_model.variables, tau)\n",
    "        update_target(target_critic.variables, critic_model.variables, tau)\n",
    "\n",
    "        # End this episode when `done` is True\n",
    "        if done:\n",
    "            break\n",
    " \n",
    "        prev_state = (state, {})\n",
    "\n",
    "    ep_reward_list.append(episodic_reward)\n",
    "\n",
    "    # Mean of last 40 episodes\n",
    "    avg_reward = np.mean(ep_reward_list[-40:])\n",
    "    print(\"Episode * {} * Avg Reward is ==> {}\".format(ep, avg_reward))\n",
    "    avg_reward_list.append(avg_reward)\n",
    "\n",
    "# Plotting graph\n",
    "# Episodes versus Avg. Rewards\n",
    "plt.plot(avg_reward_list)\n",
    "plt.xlabel(\"Episode\")\n",
    "plt.ylabel(\"Avg. Epsiodic Reward\")\n",
    "plt.show()"
   ]
  },
  {
   "cell_type": "markdown",
   "metadata": {
    "colab_type": "text"
   },
   "source": [
    "If training proceeds correctly, the average episodic reward will increase with time.\n",
    "\n",
    "Feel free to try different learning rates, `tau` values, and architectures for the\n",
    "Actor and Critic networks.\n",
    "\n",
    "The Inverted Pendulum problem has low complexity, but DDPG work great on many other\n",
    "problems.\n",
    "\n",
    "Another great environment to try this on is `LunarLandingContinuous-v2`, but it will take\n",
    "more episodes to obtain good results."
   ]
  },
  {
   "cell_type": "code",
   "execution_count": 9,
   "metadata": {
    "colab_type": "code"
   },
   "outputs": [],
   "source": [
    "# Save the weights\n",
    "actor_model.save_weights(\"pendulum_actor.h5\")\n",
    "critic_model.save_weights(\"pendulum_critic.h5\")\n",
    "\n",
    "target_actor.save_weights(\"pendulum_target_actor.h5\")\n",
    "target_critic.save_weights(\"pendulum_target_critic.h5\")"
   ]
  },
  {
   "cell_type": "markdown",
   "metadata": {
    "colab_type": "text"
   },
   "source": [
    "Before Training:\n",
    "\n",
    "![before_img](https://i.imgur.com/ox6b9rC.gif)"
   ]
  },
  {
   "cell_type": "markdown",
   "metadata": {
    "colab_type": "text"
   },
   "source": [
    "After 100 episodes:\n",
    "\n",
    "![after_img](https://i.imgur.com/eEH8Cz6.gif)"
   ]
  }
 ],
 "metadata": {
  "accelerator": "GPU",
  "colab": {
   "collapsed_sections": [],
   "name": "ddpg_pendulum",
   "private_outputs": false,
   "provenance": [],
   "toc_visible": true
  },
  "kernelspec": {
   "display_name": "Python 3",
   "language": "python",
   "name": "python3"
  },
  "language_info": {
   "codemirror_mode": {
    "name": "ipython",
    "version": 3
   },
   "file_extension": ".py",
   "mimetype": "text/x-python",
   "name": "python",
   "nbconvert_exporter": "python",
   "pygments_lexer": "ipython3",
   "version": "3.6.9"
  }
 },
 "nbformat": 4,
 "nbformat_minor": 4
}
